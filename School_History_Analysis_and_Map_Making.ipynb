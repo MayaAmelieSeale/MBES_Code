{
 "cells": [
  {
   "cell_type": "markdown",
   "metadata": {
    "id": "ObXZsi9wmJuw"
   },
   "source": [
    "Functions in this notebook:\n",
    "\n",
    "\n",
    "*   Extracting Longitude and Latitude from google maps API generated JSON data type\n",
    "*   Mapping each participant as a graph of geographic school history\n",
    "*   Mapping each participant as a graph of geographic school history, but for a subset of ID's\n",
    "*   Mapping each participant as a graph of geographic school history, but color coded to compare two groups\n",
    "*   Finding ratio of geocodable ID's to total ID's of a subset\n",
    "*   Finding geodesic and binary path length\n",
    "*   Making subset of path lengths based on redcap generated report\n",
    "*   Pulling census data for neighborhood level measures of median income, and creating maps that vizualize income changes\n",
    "\n",
    "\n",
    "\n",
    "\n",
    "\n",
    "\n",
    "\n",
    "\n"
   ]
  },
  {
   "cell_type": "markdown",
   "metadata": {
    "id": "-iLJNm1vKYcp"
   },
   "source": [
    "# Import Statements"
   ]
  },
  {
   "cell_type": "code",
   "execution_count": null,
   "metadata": {
    "colab": {
     "base_uri": "https://localhost:8080/"
    },
    "id": "Qsw-FaUjBuyC",
    "outputId": "1ec3de71-505a-4e6d-d0b8-b9ed902ef767"
   },
   "outputs": [],
   "source": [
    "\n",
    "# for secure API storage\n",
    "!pip install \"apikey>=0.2.1\"\n",
    "!pip install git+ssh://git@github.com/ulf1/apikey.git\n",
    "import apikey\n",
    "\n",
    "# for geocoding\n",
    "!pip install -U googlemaps\n",
    "import googlemaps\n",
    "from datetime import datetime\n",
    "import geopy\n",
    "from geopy import distance\n",
    "\n",
    "# for data\n",
    "import numpy as np\n",
    "import pandas as pd\n",
    "\n",
    "## for plotting\n",
    "!pip install seaborn\n",
    "import matplotlib as mpl\n",
    "import matplotlib.pyplot as plt\n",
    "import seaborn as sns\n",
    "import plotly.express as px\n",
    "\n",
    "## for machine learning\n",
    "from sklearn import preprocessing, cluster\n",
    "import scipy\n",
    "\n",
    "# for map making\n",
    "!pip install folium\n",
    "import folium\n",
    "import branca\n",
    "import matplotlib.colors\n",
    "\n",
    "# for census data\n",
    "!pip install us\n",
    "!pip install census\n",
    "!pip install censusgeocode\n",
    "import censusgeocode as cg\n",
    "from census import Census\n",
    "from us import states\n",
    "\n",
    "# other useful tools\n",
    "from pandas.core.arrays.numeric import T\n",
    "import random\n",
    "from math import sqrt, cos, radians\n",
    "from math import atan\n",
    "import copy \n",
    "import csv\n",
    "\n",
    "# improving visibility of dataframes\n",
    "pd.set_option('display.max_rows', 500)\n",
    "pd.set_option('display.max_columns', 500)\n",
    "pd.set_option('display.width', 1000)\n",
    "\n",
    "\n"
   ]
  },
  {
   "cell_type": "markdown",
   "metadata": {},
   "source": [
    " To load past geocoded and census mapped data, uncomment the following and skip section 1 "
   ]
  },
  {
   "cell_type": "code",
   "execution_count": null,
   "metadata": {},
   "outputs": [],
   "source": [
    "# pathe = path to directory where MBES data folder is stored \n",
    "# df = pd.read_csv(pathe + 'MBES/ElemGeoCode.csv')\n",
    "# dftract = pd.read_csv(pathe + 'MBES/ElemCensusTract.csv')"
   ]
  },
  {
   "cell_type": "markdown",
   "metadata": {
    "id": "cwUEH0AGKCqp"
   },
   "source": [
    "# 1. Geocoding and preprocessing"
   ]
  },
  {
   "cell_type": "code",
   "execution_count": null,
   "metadata": {
    "colab": {
     "base_uri": "https://localhost:8080/"
    },
    "id": "2Fqr2mH4fVUk",
    "outputId": "404267a4-3a8c-46bf-d2c7-0ef0950c29fe"
   },
   "outputs": [],
   "source": [
    "# pathe = path to directory where MBES data folder is stored \n",
    "# Load keys for google maps API and census API into apikey file\n",
    "#(Code not included, see https://pypi.org/project/apikey/)\n",
    "googkey = apikey.load('google', filename= pathe + 'MBES/secretkey')\n",
    "gmaps = googlemaps.Client(key=googkey)\n",
    "dtf = pd.read_csv( pathe + 'MBES/MBES_List_Of_All_Schools.csv')\n",
    "classify = pd.read_csv( pathe + 'MBES/MBES_List_Of_All_Schools.csv')\n",
    "classify.drop(columns = ['AGE CHECK','GRADE CHECK','study_check', 'NOTES ON WHY CHANGES WERE MADE -CS','Study ID.1'], inplace = True)\n",
    "classify.replace({ r'\\A\\s+|\\s+\\Z': '', '\\n' : ' '}, regex=True, inplace=True)\n",
    "# Drop rows with blank addresses\n",
    "dtf.dropna(axis = 0, subset = 'Address', inplace = True)\n",
    "\n",
    "# Drop extra columns \n",
    "dtf.drop(columns = ['AGE CHECK','GRADE CHECK','study_check', 'NOTES ON WHY CHANGES WERE MADE -CS'], inplace = True)\n",
    "dtf.drop(columns = 'Study ID.1' , inplace = True)\n",
    "\n",
    "# Replace line breaks with spaces\n",
    "dtf.replace({ r'\\A\\s+|\\s+\\Z': '', '\\n' : ' '}, regex=True, inplace=True)\n",
    "\n",
    "print('The total number of schools are: ' + str(len(dtf)))\n",
    "print('The total number of participants with atleast 1 address: ' + str(len(dtf['Study ID'].unique())))"
   ]
  },
  {
   "cell_type": "code",
   "execution_count": null,
   "metadata": {},
   "outputs": [],
   "source": [
    "# The following method classifies each address based on quality,\n",
    "\n",
    "# Full Address with st # - 5 (Best)\n",
    "# Street + zipcode (missing st #) - 4\n",
    "# Zip Code - 3\n",
    "# State & City - 2\n",
    "# State only - 1 (Worst)\n",
    "classify.insert(7, 'Geolocation Confidence Level (1 - 5)', None)"
   ]
  },
  {
   "cell_type": "code",
   "execution_count": null,
   "metadata": {},
   "outputs": [],
   "source": [
    "classify = classify.replace(np.nan, None)\n",
    "classify.head(500)"
   ]
  },
  {
   "cell_type": "code",
   "execution_count": null,
   "metadata": {},
   "outputs": [],
   "source": []
  },
  {
   "cell_type": "code",
   "execution_count": null,
   "metadata": {},
   "outputs": [],
   "source": [
    "def classifyAddress(df):\n",
    "    for i in range(0,len(df.index)):\n",
    "            if (df.iloc[i,6] is None) & (df.iloc[i,5] is None) & (df.iloc[i,3] is None) & (df.iloc[i,4] is not None):\n",
    "                df.iloc[i,7] = 1\n",
    "     \n",
    "            if (df.iloc[i,6] is None) & (df.iloc[i,5] is None) & (df.iloc[i,3] is not None) & (df.iloc[i,4] is not None):\n",
    "                df.iloc[i,7] = 2\n",
    "            if (df.iloc[i,6] is not None):\n",
    "                df.iloc[i,7] = 3\n",
    "            if (df.iloc[i,6] is not None) & (df.iloc[i,5] is not None):\n",
    "                df.iloc[i,7] = 5\n",
    "        \n",
    "    return df"
   ]
  },
  {
   "cell_type": "code",
   "execution_count": null,
   "metadata": {},
   "outputs": [],
   "source": [
    "\n",
    "classify = classifyAddress(classify)"
   ]
  },
  {
   "cell_type": "code",
   "execution_count": null,
   "metadata": {},
   "outputs": [],
   "source": [
    "classify.to_csv(pathe+'MBES/ElemConfidenceAnalysis.csv', index = False)"
   ]
  },
  {
   "cell_type": "code",
   "execution_count": null,
   "metadata": {
    "id": "kn9k-NrY4nAO"
   },
   "outputs": [],
   "source": [
    "# Geocoding data using google maps API\n",
    "dtf['location'] = dtf['Address'].apply(gmaps.geocode)"
   ]
  },
  {
   "cell_type": "code",
   "execution_count": null,
   "metadata": {},
   "outputs": [],
   "source": [
    "print('After Geocoding...')\n",
    "print('The total number of schools are: ' + str(len(dtf)))\n",
    "print('The total number of participants with atleast 1 address: ' + str(len(dtf['Study ID'].unique())))"
   ]
  },
  {
   "cell_type": "code",
   "execution_count": null,
   "metadata": {
    "id": "NaXnnAFXTRqQ"
   },
   "outputs": [],
   "source": [
    "pd.set_option('display.max_rows', 500)\n",
    "# Function to extract longitude and latidue from Google Maps API generated JSON format\n",
    "def latlong(df):\n",
    "   dtf['lat'] = None\n",
    "   dtf['long'] = None\n",
    "   numRows = len(df.index)\n",
    "   for f in range(0,numRows):\n",
    "      if df.iloc[f,19]:\n",
    "\n",
    "        df.iloc[f,20]= df.iloc[f,19][0].get('geometry').get('location').get('lat')\n",
    "        df.iloc[f,21]= df.iloc[f,19][0].get('geometry').get('location').get('lng')\n",
    "\n",
    "   return df\n",
    "\n",
    "dtf = latlong(dtf)\n"
   ]
  },
  {
   "cell_type": "code",
   "execution_count": null,
   "metadata": {
    "colab": {
     "base_uri": "https://localhost:8080/"
    },
    "id": "AjpsozWyo1wn",
    "outputId": "472d9057-4fca-42ca-97e6-1db31c600164"
   },
   "outputs": [],
   "source": [
    "# drop rows with blank latitude values\n",
    "df = dtf.dropna(axis = 0, subset = 'lat')\n",
    "\n",
    "len(df[df['lat'].isna() == True])\n",
    "df.to_csv(pathe + 'MBES/ElemGeoCode.csv', index = False)"
   ]
  },
  {
   "cell_type": "code",
   "execution_count": null,
   "metadata": {},
   "outputs": [],
   "source": [
    "print('After Geocoding and Dropping Blanks...')\n",
    "print('The total number of schools are: ' + str(len(dtf)))\n",
    "print('The total number of participants with atleast 1 address: ' + str(len(dtf['Study ID'].unique())))"
   ]
  },
  {
   "cell_type": "markdown",
   "metadata": {},
   "source": [
    "Now, we will geocode lat/long into census tract for use in the fourth section. Skip to section 2 if not needed"
   ]
  },
  {
   "cell_type": "code",
   "execution_count": null,
   "metadata": {},
   "outputs": [],
   "source": [
    "key = apikey.load(\"census\", filename=pathe + 'MBES/secretkey')\n",
    "c = Census(key)\n",
    "df['censusloc'] = df.apply(lambda x: cg.coordinates(x= x.long, y=x.lat), axis=1)"
   ]
  },
  {
   "cell_type": "code",
   "execution_count": null,
   "metadata": {},
   "outputs": [],
   "source": [
    "# Function to extract longitude and latidue from Google Maps API generated JSON format\n",
    "def tractinfo(df):\n",
    "   df['Tract'] = None\n",
    "   df['State_Fips'] = None\n",
    "   df['County_Fips'] = None\n",
    "   numRows = len(df.index)\n",
    "   for f in range(0,numRows):\n",
    "        if df.iloc[f,22]:\n",
    "            df.iloc[f,23] = df.iloc[f,22].get('2020 Census Blocks')[0].get('TRACT')\n",
    "            df.iloc[f,24] = df.iloc[f,22].get('2020 Census Blocks')[0].get('STATE')\n",
    "            df.iloc[f,25] = df.iloc[f,22].get('2020 Census Blocks')[0].get('COUNTY')\n",
    "   return df\n",
    "\n",
    "df = tractinfo(df)"
   ]
  },
  {
   "cell_type": "code",
   "execution_count": null,
   "metadata": {},
   "outputs": [],
   "source": [
    "print('The number of addresses without Census Tracts are: ' + str(len(df[df['Tract'].isna() == True])) )"
   ]
  },
  {
   "cell_type": "code",
   "execution_count": null,
   "metadata": {},
   "outputs": [],
   "source": [
    "# Since only US addresses can be used, lets drop the addresses where no tract could be found \n",
    "dftract = df.dropna(axis = 0, subset = 'Tract')   "
   ]
  },
  {
   "cell_type": "code",
   "execution_count": null,
   "metadata": {},
   "outputs": [],
   "source": [
    "print('The number of addresses without Census Tracts are: ' + str(len(df[df['Tract'].isna() == True])) )"
   ]
  },
  {
   "cell_type": "code",
   "execution_count": null,
   "metadata": {},
   "outputs": [],
   "source": [
    "# Pulling the median income from Census api based on tract \n",
    "dftract['Median Income'] = dftract.apply(lambda x: c.acs5.state_county_tract(fields = 'B19126_001E', state_fips = x.State_Fips, county_fips = x.County_Fips, tract = x.Tract), axis=1)\n",
    "# Getting numerical value of median income \n",
    "dftract['Median Income Number'] = dftract['Median Income'].apply(lambda x: x[0].get('B19126_001E'))\n",
    "# dropping tracts with median income of 0 or less\n",
    "dftract = dftract[dftract['Median Income Number'] > 0]\n"
   ]
  },
  {
   "cell_type": "code",
   "execution_count": null,
   "metadata": {},
   "outputs": [],
   "source": [
    "def incomechange(df):\n",
    "    #Creates column calculating for each address the change in median income\n",
    "    #following the previous address\n",
    "    df['Income Change'] = None\n",
    "    unique = df['Study ID'].unique()\n",
    "    numRows = len(df.index)\n",
    "    for f in range(0,numRows):\n",
    "        if df.iloc[f,1] == 1: \n",
    "            df.iloc[f,28] = 0 \n",
    "        else: \n",
    "            df.iloc[f,28] = df.iloc[f,27] - df.iloc[f-1,27]\n",
    "    return df\n",
    "dftract = incomechange(dftract)"
   ]
  },
  {
   "cell_type": "code",
   "execution_count": null,
   "metadata": {},
   "outputs": [],
   "source": [
    "# Saving data to reduce processing time in the future \n",
    "dftract.to_csv(pathe + 'MBES/ElemCensusTract.csv', index = False)"
   ]
  },
  {
   "cell_type": "markdown",
   "metadata": {
    "id": "UA_kdpkpJLbz"
   },
   "source": [
    "# 2. Functions to make maps and examples"
   ]
  },
  {
   "cell_type": "code",
   "execution_count": null,
   "metadata": {},
   "outputs": [],
   "source": []
  },
  {
   "cell_type": "code",
   "execution_count": null,
   "metadata": {
    "id": "xxtJPEJg6hbo"
   },
   "outputs": [],
   "source": [
    "# Map1 plots each address on map\n",
    "map1 = folium.Map(\n",
    "    location=[37.0902, -95.7129],\n",
    "     height=1000,\n",
    "    zoom_start=5,\n",
    ")\n",
    "df.apply(lambda row:folium.Marker(location=[row[\"lat\"], row[\"long\"]], tooltip = (str(int(row['Study ID'])) + ' ' + str(row['School Name']))).add_to(map1), axis=1)\n",
    "\n",
    "# Now, we will connect each address into a graph \n",
    "\n",
    "# Function to add a line corresponding to each Study ID\n",
    "# Color pallete that will be used to randomly assign colors to each participants path \n",
    "colorPal = ['#ffe119', '#4363d8', '#f58231','#9A6324','#f032e6','#e6194B' ,'#42d4f4','#dcbeff', '#800000', '#000075', '#a9a9a9','#3cb44b', '#000000']\n",
    "def graphmap(df):\n",
    "  map2 = folium.Map(\n",
    "    location=[37.0902, -95.7129],\n",
    "     height=1000,\n",
    "    zoom_start=5,\n",
    ")\n",
    "  unique = df['Study ID'].unique()\n",
    "  for i in unique:\n",
    "    s = df[df['Study ID'] == i]\n",
    "    numRows = len(s)\n",
    "\n",
    "    graphpoints = []\n",
    "    for f in range(0,numRows):\n",
    "      long = s.iloc[f,(21)]\n",
    "      lat  = s.iloc[f,(20)]\n",
    "\n",
    "      tup = [lat,long]\n",
    "\n",
    "      graphpoints.append(tup)\n",
    "    folium.PolyLine(locations = graphpoints, tooltip = s.iloc[f,0], color = random.choice(colorPal)).add_to(map2)\n",
    "  return map2\n",
    "# For graphing a map using a specific set of study ID's\n",
    "def searchgraphmap(df,subset):\n",
    "  map2 = folium.Map(\n",
    "    location=[37.0902, -95.7129],\n",
    "     height=1000,\n",
    "    zoom_start=5,\n",
    ")\n",
    "  colorPal = ['#ffe119', '#4363d8', '#f58231','#9A6324','#f032e6','#e6194B' ,'#42d4f4','#dcbeff', '#800000', '#000075', '#a9a9a9','#3cb44b', '#000000']\n",
    " \n",
    "  for i in subset:\n",
    "\n",
    "    s = df[df['Study ID'] == i]\n",
    "\n",
    "    numRows = len(s)\n",
    "    if numRows == 0:\n",
    "      continue\n",
    "    graphpoints = []\n",
    "    for f in range(0,numRows):\n",
    "      long = s.iloc[f,(21)]\n",
    "      lat  = s.iloc[f,(20)]\n",
    "\n",
    "      tup = [lat,long]\n",
    "\n",
    "      graphpoints.append(tup)\n",
    "    folium.PolyLine(locations = graphpoints, color = random.choice(colorPal), tooltip = s.iloc[f,0]).add_to(map2)\n",
    "  return map2\n",
    "\n",
    "graphm = graphmap(df)\n",
    "\n",
    "# Compute ratio of geocodable ID's to total ID's in subset\n",
    "def geocodedratio(df, subset):\n",
    "  count = 0\n",
    "  for i in subset:\n",
    "    if len(df[df['Study ID'] == i]) != 0:\n",
    "      count = count + 1\n",
    "  ratio = count/len(subset)\n",
    "  return ratio\n"
   ]
  },
  {
   "cell_type": "code",
   "execution_count": null,
   "metadata": {},
   "outputs": [],
   "source": []
  },
  {
   "cell_type": "markdown",
   "metadata": {
    "id": "EnnspDlIiaVW"
   },
   "source": [
    "Map of all participants with atleast one geocodable address (N = 120)"
   ]
  },
  {
   "cell_type": "code",
   "execution_count": null,
   "metadata": {
    "colab": {
     "base_uri": "https://localhost:8080/",
     "height": 394
    },
    "id": "pDiSV7xlFxJo",
    "outputId": "365b8df7-584a-409a-f4c5-1aa92b9ffaab"
   },
   "outputs": [],
   "source": [
    "graphm"
   ]
  },
  {
   "cell_type": "code",
   "execution_count": null,
   "metadata": {
    "id": "NnbZCy7yuWqn"
   },
   "outputs": [],
   "source": [
    "\n",
    "with open(pathe + 'MBES/Low_Income_Study_ID.csv', 'r') as read_obj:\n",
    "    csv_reader = csv.reader(read_obj)\n",
    "    low = list(csv_reader)\n",
    "with open(pathe + 'MBES/Mid_Income_Study_ID.csv', 'r') as read_obj:\n",
    "    csv_reader = csv.reader(read_obj)\n",
    "    mid = list(csv_reader)\n",
    "m = []\n",
    "for i in mid:\n",
    "  m.append(int(i[0]))\n",
    "l = []\n",
    "for i in low:\n",
    "  l.append(int(i[0]))\n"
   ]
  },
  {
   "cell_type": "markdown",
   "metadata": {
    "id": "Wsit58yCjjYV"
   },
   "source": [
    "Search Graph Map function allows generation of subset of map with one line of code"
   ]
  },
  {
   "cell_type": "code",
   "execution_count": null,
   "metadata": {
    "id": "p34-6EoKvFJl"
   },
   "outputs": [],
   "source": [
    "\n",
    "midmap = searchgraphmap(df,m)\n",
    "lowmap = searchgraphmap(df,l)\n"
   ]
  },
  {
   "cell_type": "markdown",
   "metadata": {
    "id": "H04znfAMiK-R"
   },
   "source": [
    "Participants between 80% and 200% of median county income (Middle income)"
   ]
  },
  {
   "cell_type": "code",
   "execution_count": null,
   "metadata": {
    "colab": {
     "base_uri": "https://localhost:8080/"
    },
    "id": "sCAGPYOL2K0D",
    "outputId": "aee80acd-9986-4824-d6e6-f7b840b0fa85"
   },
   "outputs": [],
   "source": [
    "print(\"The geocoded ratio of middle income participants is \" + str(geocodedratio(df, m)))"
   ]
  },
  {
   "cell_type": "code",
   "execution_count": null,
   "metadata": {
    "colab": {
     "base_uri": "https://localhost:8080/",
     "height": 394
    },
    "id": "7H7XNImO4dpQ",
    "outputId": "741586a6-c215-4d05-8174-fe07d43ead5d"
   },
   "outputs": [],
   "source": [
    "\n",
    "midmap"
   ]
  },
  {
   "cell_type": "markdown",
   "metadata": {
    "id": "gJd2MSSQiRgE"
   },
   "source": [
    "Participants below 80% of county median"
   ]
  },
  {
   "cell_type": "code",
   "execution_count": null,
   "metadata": {
    "colab": {
     "base_uri": "https://localhost:8080/"
    },
    "id": "VRWTXzop2WyQ",
    "outputId": "ebdbe73a-618a-4f68-96a7-b531359e57c2"
   },
   "outputs": [],
   "source": [
    "print(\"The geocoded ratio of low income participants is \" + str(geocodedratio(df, l)))"
   ]
  },
  {
   "cell_type": "markdown",
   "metadata": {
    "id": "OqkQuXqNVrD8"
   },
   "source": [
    "The geocoded ratio is useful when commparing two sets, to see if group differences might be effected by differences in how many participants in each group had addresses that could be located on a map"
   ]
  },
  {
   "cell_type": "code",
   "execution_count": null,
   "metadata": {
    "colab": {
     "base_uri": "https://localhost:8080/",
     "height": 394
    },
    "id": "CTPqipr-4ilu",
    "outputId": "68244b1f-33de-469e-fc3d-371c24626d8e"
   },
   "outputs": [],
   "source": [
    "lowmap"
   ]
  },
  {
   "cell_type": "markdown",
   "metadata": {
    "id": "r1vi5F8_tt44"
   },
   "source": [
    "A function that generates a map that compares two lists of Study ID's"
   ]
  },
  {
   "cell_type": "code",
   "execution_count": null,
   "metadata": {
    "id": "z64UI-UU31tE"
   },
   "outputs": [],
   "source": [
    "def compareGroups(df,subset1, subset2, title1, title2):\n",
    "  map2 = folium.Map(\n",
    "    location=[37.0902, -95.7129],\n",
    "     height=1000,\n",
    "    zoom_start=5,\n",
    ")\n",
    "  legend_html = '''\n",
    "{% macro html(this, kwargs) %}\n",
    "<div style=\"\n",
    "    position: fixed; \n",
    "    bottom: 50px;\n",
    "    left: 50px;\n",
    "    width: 250px;\n",
    "    height: 80px;\n",
    "    z-index:9999;\n",
    "    font-size:14px;\n",
    "    \">\n",
    "    <p><a style=\"color:#4363d8;font-size:150%;margin-left:20px;\">&diams;</a>&emsp;''' + title1 + '''</p>\n",
    "    <p><a style=\"color:#f032e6;font-size:150%;margin-left:20px;\">&diams;</a>&emsp;''' + title2 + '''</p>\n",
    "</div>\n",
    "<div style=\"\n",
    "    position: fixed; \n",
    "    bottom: 50px;\n",
    "    left: 50px;\n",
    "    width: 150px;\n",
    "    height: 80px; \n",
    "    z-index:9998;\n",
    "    font-size:14px;\n",
    "    background-color: #ffffff;\n",
    "\n",
    "    opacity: 0.7;\n",
    "    \">\n",
    "</div>\n",
    "{% endmacro %}\n",
    "'''\n",
    "  legend = branca.element.MacroElement()\n",
    "  legend._template = branca.element.Template(legend_html)\n",
    "\n",
    "  for i in subset1:\n",
    "    s = df[df['Study ID'] == i]\n",
    "    numRows = len(s)\n",
    "    if numRows == 0:\n",
    "      continue\n",
    "    graphpoints = []\n",
    "    for f in range(0,numRows):\n",
    "      long = s.iloc[f,(21)]\n",
    "      lat  = s.iloc[f,(20)]\n",
    "\n",
    "      tup = [lat,long]\n",
    "\n",
    "      graphpoints.append(tup)\n",
    "    folium.PolyLine(locations = graphpoints, color = '#4363d8', tooltip = s.iloc[f,0]).add_to(map2)\n",
    "  for i in subset2:\n",
    "    s = df[df['Study ID'] == i]\n",
    "    numRows = len(s)\n",
    "    if numRows == 0:\n",
    "      continue\n",
    "    graphpoints = []\n",
    "    for f in range(0,numRows):\n",
    "      long = s.iloc[f,(21)]\n",
    "      lat  = s.iloc[f,(20)]\n",
    "\n",
    "      tup = [lat,long]\n",
    "\n",
    "      graphpoints.append(tup)\n",
    "    folium.PolyLine(locations = graphpoints, color = '#f032e6', tooltip = s.iloc[f,0]).add_to(map2)\n",
    "  folium.LayerControl().add_to(map2)\n",
    "  map2.get_root().add_child(legend)\n",
    "\n",
    "  return map2"
   ]
  },
  {
   "cell_type": "code",
   "execution_count": null,
   "metadata": {
    "id": "9MtRl9Bs8sxj"
   },
   "outputs": [],
   "source": [
    "\n",
    "compMap = compareGroups(df,l,m, 'Low Income', 'Middle Income')"
   ]
  },
  {
   "cell_type": "markdown",
   "metadata": {
    "id": "Cy9ygmJBhP_0"
   },
   "source": [
    "Comparing participants below 80% of county (blue) with particiapants between 80% and  200% of county median median (magenta)"
   ]
  },
  {
   "cell_type": "code",
   "execution_count": null,
   "metadata": {
    "colab": {
     "base_uri": "https://localhost:8080/",
     "height": 394
    },
    "id": "0Fi3s_qjcX3T",
    "outputId": "a772cfd4-6c5a-43fd-be7f-f8b9bfdd87b0"
   },
   "outputs": [],
   "source": [
    "compMap"
   ]
  },
  {
   "cell_type": "code",
   "execution_count": null,
   "metadata": {
    "id": "b_lUi9D8pm4H"
   },
   "outputs": [],
   "source": []
  },
  {
   "cell_type": "markdown",
   "metadata": {
    "id": "6Uq7uOX6pwEk"
   },
   "source": [
    "Comparing participants who answered yes (magenta) vs no (blue) on \" Did financial difficulties ever cause you or your family to move to a difference place (before the age of 16)?\" from the childhood SES questionaire.\n",
    "\n"
   ]
  },
  {
   "cell_type": "code",
   "execution_count": null,
   "metadata": {
    "colab": {
     "base_uri": "https://localhost:8080/",
     "height": 428
    },
    "id": "s0S8JRp3pnie",
    "outputId": "6b193f10-acd0-4485-8a03-5a4b0e5d3cc0"
   },
   "outputs": [],
   "source": [
    "noFinDifMove = pd.read_csv(pathe + 'MBES/Study_IDs_Moved_As_A_Result_Of_Hardship.csv')\n",
    "FinDifMove = pd.read_csv(pathe + 'MBES/Study_IDs_NOT_Moved_As_A_Result_Of_Hardship.csv')\n",
    "nFDM = noFinDifMove['study_id']\n",
    "FDM = FinDifMove['study_id']\n",
    "cSEScompMap = compareGroups(df,nFDM,FDM,'Did NOT report moving due to financial hardship before the age of 16', 'Did report moving due to financial hardship before the age of 16')\n",
    "print(\"The geocodable ID ratio of those who answered no is \" + str(geocodedratio(df, nFDM)))\n",
    "print(\"The geocodable ID  of those who answered yes is \" + str(geocodedratio(df, FDM)))\n",
    "cSEScompMap"
   ]
  },
  {
   "cell_type": "markdown",
   "metadata": {
    "id": "53q9QdanJXyd"
   },
   "source": [
    "# Computing geodesic and binary path length, examples and brief analysis"
   ]
  },
  {
   "cell_type": "markdown",
   "metadata": {
    "id": "jYiUw4dEHiJ7"
   },
   "source": [
    "Compute network path length based on binary edges and geodesic distance moved in miles"
   ]
  },
  {
   "cell_type": "code",
   "execution_count": null,
   "metadata": {
    "id": "o0ByukiwUkHq"
   },
   "outputs": [],
   "source": [
    "\n",
    "\n",
    "def geographicdistance(df):\n",
    "  disDF = pd.DataFrame(columns = ['Study ID', 'Distance Traveled', 'Number of Moves'])\n",
    "  unique = df['Study ID'].unique()\n",
    "  for i in unique:\n",
    "    print(i)\n",
    "    s = df[df['Study ID'] == i]\n",
    "    numRows = len(s)\n",
    "    if numRows == 0:\n",
    "      continue\n",
    "    graphpoints = []\n",
    "    for f in range(0,numRows):\n",
    "      long = s.iloc[f,(21)]\n",
    "      lat  = s.iloc[f,(20)]\n",
    "      tup = [lat,long]\n",
    "      graphpoints.append(tup)\n",
    "    totaldis = 0\n",
    "    j = 0\n",
    "    while j < (len(graphpoints) - 1):\n",
    "        # totaldis = totaldis + dist(graphpoints[j][0],graphpoints[j][1], graphpoints[j+1][0],graphpoints[j+1][1])\n",
    "        totaldis = totaldis + distance.distance(graphpoints[j], graphpoints[j+1]).miles\n",
    "        j = j + 1\n",
    "    df2 = {'Study ID': int(i) , 'Distance Traveled': totaldis, 'Number of Moves': numRows}\n",
    "\n",
    "    disDF = disDF.append(df2, ignore_index = True)\n",
    "  return disDF\n",
    "\n",
    "dis = geographicdistance(df)\n"
   ]
  },
  {
   "cell_type": "markdown",
   "metadata": {
    "id": "yndgRuchMexb"
   },
   "source": [
    "Looking at geocoded set statistics"
   ]
  },
  {
   "cell_type": "code",
   "execution_count": null,
   "metadata": {
    "colab": {
     "base_uri": "https://localhost:8080/",
     "height": 300
    },
    "id": "pmWI8woEMd8z",
    "outputId": "c0ae33ec-334a-4610-b287-398ef2ad2932"
   },
   "outputs": [],
   "source": [
    "dis.describe()"
   ]
  },
  {
   "cell_type": "code",
   "execution_count": null,
   "metadata": {
    "colab": {
     "base_uri": "https://localhost:8080/",
     "height": 542
    },
    "id": "guntNTD14syl",
    "outputId": "a0990190-525e-4bc0-a0ac-f63c4cd6e878"
   },
   "outputs": [],
   "source": [
    "fig = px.box(dis, y= 'Distance Traveled')\n",
    "fig.show()"
   ]
  },
  {
   "cell_type": "code",
   "execution_count": null,
   "metadata": {
    "id": "-wIfsvfC5RYx"
   },
   "outputs": [],
   "source": [
    "# Allows easy creation of subset using csv of redcap report\n",
    "def subsetdis(disdf,filepath):\n",
    "  df = pd.read_csv(filepath)\n",
    "  IDlist = df['study_id']\n",
    "  new = disdf[disdf[\"Study ID\"].isin(IDlist)]\n",
    "  return new\n",
    "\n",
    "MAASOF = subsetdis(dis,pathe + 'MBES/Study_IDs_Moved_As_A_Result_Of_Hardship.csv')\n",
    "nMAASOF = subsetdis(dis,pathe + 'MBES/Study_IDs_NOT_Moved_As_A_Result_Of_Hardship.csv')\n"
   ]
  },
  {
   "cell_type": "code",
   "execution_count": null,
   "metadata": {
    "id": "MmEeDIeeWPt0"
   },
   "outputs": [],
   "source": [
    "# Function that adds a column to distance dataframe tagging each address by group.\n",
    "# nameofCol is a string representing the name of the column containing the tags\n",
    "# file1 is the redcap report file (csv) corresponding to group 1\n",
    "# file2 is the redcap report file (csv) corresponding to group 2\n",
    "# Value1 is the value of nameofCol for each item in group 1\n",
    "# Value2 is the value of nameofCol for each item in group 2\n",
    "\n",
    "def compareGroups(disdf, nameofCol, file1, value1, file2, value2):\n",
    "  group1 = subsetdis(disdf,file1)\n",
    "  group2 = subsetdis(disdf,file2)\n",
    "  disdf[nameofCol] = None\n",
    "  numRows = len(disdf.index)\n",
    "  cols = len(disdf.columns)\n",
    "  for f in range(0,numRows):\n",
    "    disdf.iloc[f,0] = int(disdf.iloc[f,0])\n",
    "    if disdf.iloc[f,0] in group1['Study ID'].values:\n",
    "      disdf.iloc[f,cols -1] = value1\n",
    "    elif dis.iloc[f,0] in group2['Study ID'].values:\n",
    "      disdf.iloc[f,cols -1] = value2\n",
    "  return disdf"
   ]
  },
  {
   "cell_type": "code",
   "execution_count": null,
   "metadata": {
    "id": "OL6x2wxQWTmd"
   },
   "outputs": [],
   "source": [
    "\n",
    "dis = compareGroups(dis, 'Moved as a result of hardship', pathe + 'MBES/Study_IDs_NOT_Moved_As_A_Result_Of_Hardship.csv', 'No',pathe + 'MBES/Study_IDs_Moved_As_A_Result_Of_Hardship.csv' , 'Yes')\n",
    "\n"
   ]
  },
  {
   "cell_type": "markdown",
   "metadata": {
    "id": "-untvhzeMIFb"
   },
   "source": [
    "Looking at those who answered no to\" Did financial difficulties ever cause you or your family to move to a difference place (before the age of 16)?\" from the childhood SES questionaire."
   ]
  },
  {
   "cell_type": "code",
   "execution_count": null,
   "metadata": {
    "colab": {
     "base_uri": "https://localhost:8080/",
     "height": 300
    },
    "id": "rRHp7CSO_dUX",
    "outputId": "f06a520d-ff0a-4148-b441-fd6c31dd16d5"
   },
   "outputs": [],
   "source": [
    "dis['Income'] = None\n",
    "numRows = len(dis.index)\n",
    "for f in range(0,numRows):\n",
    "  dis.iloc[f,0] = int(dis.iloc[f,0])\n",
    "  if dis.iloc[f,0] in m:\n",
    "    dis.iloc[f,4] = 'Middle'\n",
    "  elif dis.iloc[f,0] in l:\n",
    "    dis.iloc[f,4] = 'Lower'\n",
    "  else:\n",
    "    dis.iloc[f,4] = None\n",
    "\n",
    "dis.describe()"
   ]
  },
  {
   "cell_type": "code",
   "execution_count": null,
   "metadata": {
    "colab": {
     "base_uri": "https://localhost:8080/",
     "height": 542
    },
    "id": "7_39DpZ5_kYq",
    "outputId": "0f31f0a4-44cb-4bc0-8101-3422d95303ef"
   },
   "outputs": [],
   "source": [
    "fig = px.box(dis ,x = 'Moved as a result of hardship', y= 'Distance Traveled')\n",
    "fig.show()"
   ]
  },
  {
   "cell_type": "markdown",
   "metadata": {
    "id": "_GF4cY2MZrhN"
   },
   "source": [
    "Possible difference here in median- maybe those who moved due to financil hardship tended to move farther. It would be interesting to see if this relates to social capital, social mobility, and mid life SES"
   ]
  },
  {
   "cell_type": "markdown",
   "metadata": {
    "id": "e7PeVG7SUSjZ"
   },
   "source": [
    "Looking at those who low income, below the 80% county median, and those who are middle income, between 80% and 200% median income\n",
    "\n"
   ]
  },
  {
   "cell_type": "code",
   "execution_count": null,
   "metadata": {
    "colab": {
     "base_uri": "https://localhost:8080/",
     "height": 466
    },
    "id": "nFUAbt0GLfxu",
    "outputId": "9fae18e4-ec5f-4671-bd9a-ec25ab1fb2a1"
   },
   "outputs": [],
   "source": [
    "fig = px.box(dis ,x = 'Income', y= 'Distance Traveled')\n",
    "fig.show()"
   ]
  },
  {
   "cell_type": "code",
   "execution_count": null,
   "metadata": {},
   "outputs": [],
   "source": [
    "dis.to_csv(pathe+'MBES/ELEMecongeochanges', index = False)"
   ]
  },
  {
   "cell_type": "markdown",
   "metadata": {},
   "source": [
    "# Comparing Economic Mobility with Geographic Mobility \n"
   ]
  },
  {
   "cell_type": "code",
   "execution_count": null,
   "metadata": {},
   "outputs": [],
   "source": [
    "dftract.iloc[0,27]"
   ]
  },
  {
   "cell_type": "markdown",
   "metadata": {},
   "source": [
    "First, we will need to calculate economic changes for each participant. We will put the result into the same dataframe we put the geographic mobility result in "
   ]
  },
  {
   "cell_type": "code",
   "execution_count": null,
   "metadata": {},
   "outputs": [],
   "source": [
    "def econchange(dftract, dis):\n",
    "  dis['Economic Mobility'] = None\n",
    "  unique = dftract['Study ID'].unique()\n",
    "  for i in unique:\n",
    "    s = dftract[dftract['Study ID'] == i]\n",
    "    numRows = len(s)\n",
    "    if numRows == 0:\n",
    "      continue\n",
    "    econChange = s.iloc[numRows - 1,(27)] - s.iloc[0,(27)]\n",
    "    dis.iloc[dis['Study ID'] == i,5] = econChange\n",
    "\n",
    "  return dis"
   ]
  },
  {
   "cell_type": "code",
   "execution_count": null,
   "metadata": {},
   "outputs": [],
   "source": [
    "dis = econchange(dftract, dis)\n",
    "dis.to_csv(pathe+'MBES/ELEMecongeochanges', index = False)"
   ]
  },
  {
   "cell_type": "code",
   "execution_count": null,
   "metadata": {},
   "outputs": [],
   "source": [
    "dis.head()"
   ]
  },
  {
   "cell_type": "code",
   "execution_count": null,
   "metadata": {},
   "outputs": [],
   "source": [
    "sns.scatterplot(data=dis, x=\"Economic Mobility\", y=\"Distance Traveled\")"
   ]
  },
  {
   "cell_type": "markdown",
   "metadata": {},
   "source": [
    "# Maps integrated with census data"
   ]
  },
  {
   "cell_type": "markdown",
   "metadata": {},
   "source": [
    "Combining maps with SES data"
   ]
  },
  {
   "cell_type": "code",
   "execution_count": null,
   "metadata": {},
   "outputs": [],
   "source": [
    "key = apikey.load(\"census\", filename=pathe + 'MBES/secretkey')"
   ]
  },
  {
   "cell_type": "code",
   "execution_count": null,
   "metadata": {},
   "outputs": [],
   "source": [
    "c = Census(key)"
   ]
  },
  {
   "cell_type": "code",
   "execution_count": null,
   "metadata": {},
   "outputs": [],
   "source": [
    "dftract.head()"
   ]
  },
  {
   "cell_type": "code",
   "execution_count": null,
   "metadata": {},
   "outputs": [],
   "source": [
    " "
   ]
  },
  {
   "cell_type": "code",
   "execution_count": null,
   "metadata": {},
   "outputs": [],
   "source": [
    "dftract.head(500)"
   ]
  },
  {
   "cell_type": "code",
   "execution_count": null,
   "metadata": {},
   "outputs": [],
   "source": [
    "def incomechange(df):\n",
    "    df['Income Change'] = None\n",
    "    unique = df['Study ID'].unique()\n",
    "    numRows = len(df.index)\n",
    "    for f in range(0,numRows):\n",
    "        if df.iloc[f,1] == 1: \n",
    "            df.iloc[f,28] = 0 \n",
    "        else: \n",
    "            df.iloc[f,28] = df.iloc[f,27] - df.iloc[f-1,27]\n",
    "    return df\n",
    "dftract = incomechange(dftract)"
   ]
  },
  {
   "cell_type": "code",
   "execution_count": null,
   "metadata": {},
   "outputs": [],
   "source": [
    "dftract[dftract['Income Change'] == dftract['Income Change'].max()]"
   ]
  },
  {
   "cell_type": "code",
   "execution_count": null,
   "metadata": {},
   "outputs": [],
   "source": [
    "import math\n",
    "colstr = ['#D8FCD8', '#A0F9A0'  , '#62F163' , '#2AED2D' , '#03DF04']\n",
    "\n",
    "colstr2 = ['#F8D1CD', '#F0A8AB', '#E97E88', '#E15566','#DA2C43']\n",
    "colrev = copy.deepcopy(colstr2)\n",
    "colrev.reverse()\n",
    "totalcol = colrev + colstr\n",
    "rgbcol = []\n",
    "for i in totalcol:    \n",
    "    rgbcol.append(matplotlib.colors.to_rgb(i))\n",
    "def incomemap(df):\n",
    "  map2 = folium.Map(\n",
    "    location=[37.0902, -95.7129],\n",
    "     height=1000,\n",
    "    zoom_start=5,\n",
    ")\n",
    "  colormap = branca.colormap.StepColormap(colors = rgbcol,vmin = -179520.0, vmax = 196131.0  )\n",
    "  #colormap = colormap.to_step(index=[0, 1000, 3000, 5000, 8500])\n",
    "  colormap.caption = 'Change in Median Income As a Result of Moving'\n",
    "  colormap.add_to(map2)\n",
    "  unique = df['Study ID'].unique()\n",
    "  for i in unique:\n",
    "    s = df[df['Study ID'] == i]\n",
    "    numRows = len(s)\n",
    "    for f in range(1,numRows):\n",
    "      if s.iloc[f,(28)] < 0: \n",
    "        cols = colstr2\n",
    "      else: \n",
    "        cols = colstr\n",
    "      long0 = s.iloc[f-1,(21)]\n",
    "      lat0  = s.iloc[f-1,(20)]\n",
    "      long = s.iloc[f,(21)]\n",
    "      lat  = s.iloc[f,(20)]\n",
    "      \n",
    "      ratio =  abs(s.iloc[f,(28)]) / df['Income Change'].max()\n",
    "      if (long - long0) == 0:\n",
    "        continue \n",
    "      tup = [lat,long]\n",
    "      mid = ((lat0 + lat)/2, (long0 + long)/2)\n",
    "      angle = math.degrees(math.atan2(lat - lat0, long - long0))\n",
    "      # rotation = 90*atan((lat - lat0)/(long - long0))\n",
    "      folium.PolyLine(locations = [[lat0,long0],[lat,long]], tooltip = s.iloc[f,0], color = cols[int(ratio*4)]).add_to(map2)\n",
    "      #folium.Marker(location=mid, icon=folium.Icon(color='lightgray', icon='glyphicon glyphicon-chevron-left')).add_to(m)\n",
    "      # cent = [lat0,long0]\n",
    "      # folium.RegularPolygonMarker(location= cent, fill_color='blue', number_of_sides=3, radius=10, rotation= rotation).add_to(map2)\n",
    "  return map2"
   ]
  },
  {
   "cell_type": "code",
   "execution_count": null,
   "metadata": {},
   "outputs": [],
   "source": [
    "incomemap = incomemap(dftract)"
   ]
  },
  {
   "cell_type": "code",
   "execution_count": null,
   "metadata": {},
   "outputs": [],
   "source": [
    "incomemap "
   ]
  },
  {
   "cell_type": "code",
   "execution_count": null,
   "metadata": {},
   "outputs": [],
   "source": []
  },
  {
   "cell_type": "code",
   "execution_count": null,
   "metadata": {},
   "outputs": [],
   "source": []
  }
 ],
 "metadata": {
  "colab": {
   "provenance": []
  },
  "kernelspec": {
   "display_name": "Python 3 (ipykernel)",
   "language": "python",
   "name": "python3"
  },
  "language_info": {
   "codemirror_mode": {
    "name": "ipython",
    "version": 3
   },
   "file_extension": ".py",
   "mimetype": "text/x-python",
   "name": "python",
   "nbconvert_exporter": "python",
   "pygments_lexer": "ipython3",
   "version": "3.10.9"
  }
 },
 "nbformat": 4,
 "nbformat_minor": 1
}
