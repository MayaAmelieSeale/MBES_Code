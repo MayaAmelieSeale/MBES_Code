{
 "cells": [
  {
   "cell_type": "code",
   "execution_count": null,
   "metadata": {
    "id": "cLf-ZYuwHTBL"
   },
   "outputs": [],
   "source": [
    "import pandas as pd\n",
    "pd.set_option('display.max_rows', 500)\n",
    "pd.set_option('display.max_columns', 500)\n",
    "# Data Entry\n",
    "# School Level Processing\n",
    "# Non Majority-Minority Aggregate\n",
    "# Methods for identifying errors in participant responses\n",
    "# pathe = path to directory where MBES data folder is stored\n",
    "# pathe = "
   ]
  },
  {
   "cell_type": "code",
   "execution_count": null,
   "metadata": {
    "id": "lgLJHO8uHfIj"
   },
   "outputs": [],
   "source": [
    "MBES = pd.read_csv(pathe + 'MBES/MBES_lhs_education_history_20230412.csv')\n",
    "\n"
   ]
  },
  {
   "cell_type": "code",
   "execution_count": null,
   "metadata": {
    "id": "jj9OBuYwkpkQ"
   },
   "outputs": [],
   "source": [
    "def MakeSchoolInfoDataEntry(df):\n",
    "  # Transformed LHS dataset into one that can be used for school info data entry\n",
    "  # Rows are now for each school, rather than for each study ID\n",
    "  # The resulting dataframe cannot be used with any other methods\n",
    "  colMap = {'Write the name of your FIRST school.': 1 ,'Write the name of your SECOND school' : 2 , 'Write the name of your THIRD school.' : 3,'Write the name of your FOURTH school': 4,'Write the name of your FIFTH school.' : 5,'Write the name of your SIXTH school.' : 6 ,'Write the name of your SEVENTH school.' :  7,'Write the name of your EIGHTH school.' : 8,'Write the name of your NINTH school.': 9,'Write the name of your TENTH school.': 10}\n",
    "  df = df.rename(mapper = colMap,  axis='columns')\n",
    "  SchoolName = pd.melt(df, id_vars='Study ID', var_name = 'School ID', value_name = 'School Name',  value_vars=[1,2,3,4,5,6,7,8,9,10])\n",
    "  CityName = pd.melt(df, id_vars='Study ID', var_name = 'City ID', value_name = 'City Name',  value_vars=['Write the city/town of your FIRST school.', 'Write the city/town of your SECOND school.', 'Write the city/town of your THIRD school.', 'Write the city/town of your FOURTH school.', 'Write the city/town of your FIFTH school.', 'Write the city/town of your SIXTH school.', 'Write the city/town of your SEVENTH school.', 'Write the city/town of your EIGHTH school.', 'Write the city/town of your NINTH school.', 'Write the city/town of your TENTH school.'])\n",
    "  State =  pd.melt(df, id_vars='Study ID', var_name = 'State ID', value_name = 'State',  value_vars=['Write the state (or country) of your FIRST school.', 'Write the state (or country) of your SECOND school.', 'Write the state (or country) of your THIRD school.', 'Write the state (or country) of your FOURTH school.', 'Write the state (or country) of your FIFTH school.', 'Write the state (or country) of your SIXTH school.', 'Write the state (or country) of your SEVENTH school.', 'Write the state (or country) of your EIGHTH school.', 'Write the state (or country) of your NINTH school.', 'Write the state (or country) of your TENTH school.'])\n",
    "  EndAge = pd.melt(df, id_vars='Study ID', var_name = 'End Age ID', value_name = 'End Age',  value_vars=['Write the end age of attending your FIRST school.', 'Write the end age of attending your SECOND school.', 'Write the end age when attending your THIRD school', 'Write the end age when attending your FOURTH school', 'Write the end age when attending your FIFTH school.', 'Write the end age when attending your SIXTH school.', 'Write the end age when attending your SEVENTH school.', 'Write the end age of your EIGHTH school.', 'Write the end age when attending your NINTH school.', 'Write the end age when attending your TENTH school.'])\n",
    "  StartAge = pd.melt(df, id_vars='Study ID', var_name = 'Start Age ID', value_name = 'Start Age',  value_vars=['Write the start age of attending your FIRST school.', 'Write the start age when attending your SECOND school.', 'Write the start age when attending your THIRD school.', 'Write the start age when attending your FOURTH school.', 'Write the start age when attending your FIFTH school.', 'Write the start age when attending your SIXTH school.', 'Write the start age when attending your SEVENTH school.', 'Write the start age when attending your EIGHTH school.', 'Write the start age when attending your NINTH school.', 'Write the start age when attending your TENTH school.'])\n",
    "  StartGrade = pd.melt(df, id_vars='Study ID', var_name = 'Start Grade ID', value_name = 'Start Grade',  value_vars=['Write the start grade of your FIRST school.', 'Write the start grade of your SECOND school.', 'Write the start grade of your THIRD school.', 'Write the start grade of your FOURTH school.', 'Write the start grade of your FIFTH school.', 'Write the start grade of your SIXTH school.', 'Write the start grade of your SEVENTH school.', 'Write the start grade of your EIGHTH school.', 'Write the start grade of your NINTH school.', 'Write the start grade of your TENTH school.'])\n",
    "  EndGrade = pd.melt(df, id_vars='Study ID', var_name = 'End Grade ID', value_name = 'End Grade',  value_vars=['Write the end grade of your FIRST school.', 'Write the end grade of your SECOND school.', 'Write the end grade of your THIRD school.', 'Write the end grade of your FOURTH school.', 'Write the end grade of your FIFTH school.', 'Write the end grade of your SIXTH school.', 'Write the end grade of your SEVENTH school.', 'Write the end grade of your EIGHTH school.', 'Write the end grade of your NINTH school.', 'Write the end grade of your TENTH school.'])\n",
    "  m = pd.concat([SchoolName,\n",
    "               CityName.drop(columns = ['Study ID','City ID']),\n",
    "               State.drop(columns = ['Study ID','State ID']),\n",
    "               StartAge.drop(columns = ['Study ID','Start Age ID']),\n",
    "               EndAge.drop(columns = ['Study ID','End Age ID']),\n",
    "               StartGrade.drop(columns = ['Study ID','Start Grade ID']),\n",
    "               EndGrade.drop(columns = ['Study ID','End Grade ID'])]\n",
    "               ,axis=\"columns\")\n",
    "  m = m.sort_values(by=['Study ID', 'School ID'])\n",
    "  m.dropna(how = 'all', subset = [ 'School Name'], inplace = True)\n",
    "  m.insert(5, 'Zipcode', None)\n",
    "  m.insert(6, 'School District', None)\n",
    "  m.insert(7, 'Any Ranking Info', None)\n",
    "  m.insert(8, 'Links', None)\n",
    "  m.insert(9, 'Notes', None)\n",
    "  m['Type'] = None\n",
    "  return m\n",
    "\n"
   ]
  },
  {
   "cell_type": "code",
   "execution_count": null,
   "metadata": {},
   "outputs": [],
   "source": [
    "d = MakeSchoolInfoDataEntry(MBES)"
   ]
  },
  {
   "cell_type": "code",
   "execution_count": null,
   "metadata": {},
   "outputs": [],
   "source": [
    "len(d['Study ID'].unique())"
   ]
  },
  {
   "cell_type": "markdown",
   "metadata": {
    "id": "QPQInaFqm2M5"
   },
   "source": [
    "School Level Processing\n"
   ]
  },
  {
   "cell_type": "code",
   "execution_count": null,
   "metadata": {
    "id": "rKLnu-j0VMmk"
   },
   "outputs": [],
   "source": [
    "def addSchoolLvlCol(dataframe, numberofschools):\n",
    "  digtoword = {\n",
    "  1 : 'first',\n",
    "  2: 'second',\n",
    "  3: 'third',\n",
    "  4: 'fourth',\n",
    "  5: 'fifth',\n",
    "  6: 'sixth',\n",
    "  7: 'seventh',\n",
    "  8: 'eighth',\n",
    "  9: 'ninth',\n",
    "  10: 'tenth',\n",
    "  11: 'eleventh',\n",
    "  12 : 'twelfth',\n",
    "  13: 'thirteenth'\n",
    "\n",
    "}\n",
    "  for i in reversed(range(1,numberofschools)):\n",
    "    dataframe.insert((i*10), 'Was your ' + digtoword[i] + ' school an elementary school?', \"\")\n",
    "    dataframe.insert((i*10) + 1, 'Was your ' + digtoword[i] + ' school a middle school?', \"\")\n",
    "    dataframe.insert((i*10) + 2, 'Was your ' + digtoword[i] + ' school a high school?', \"\")\n",
    "  dataframe['Did you attend an '  + digtoword[(numberofschools + 1)] + ' school after your tenth school?'] = \"No\"\n",
    "  dataframe['Was your ' + digtoword[numberofschools] + ' school an elementary school?'] = \"\"\n",
    "  dataframe['Was your '+  digtoword[numberofschools] + ' school a middle school?'] = \"\"\n",
    "  dataframe['Was your ' + digtoword[numberofschools] + ' school a high school?'] = \"\"\n",
    "def addSchoolLvlCol2(dataframe, numberofschools):\n",
    "  digtoword = {\n",
    "  1 : 'first',\n",
    "  2: 'second',\n",
    "  3: 'third',\n",
    "  4: 'fourth',\n",
    "  5: 'fifth',\n",
    "  6: 'sixth',\n",
    "  7: 'seventh',\n",
    "  8: 'eighth',\n",
    "  9: 'ninth',\n",
    "  10: 'tenth',\n",
    "  11: 'eleventh',\n",
    "  12 : 'twelfth',\n",
    "  13: 'thirteenth'\n",
    "\n",
    "}\n",
    "  for i in reversed(range(1,numberofschools)):\n",
    "    dataframe.insert((i*10), str(i) + 'a', \"\")\n",
    "    dataframe.insert((i*10) + 1, str(i) + 'b', \"\")\n",
    "    dataframe.insert((i*10) + 2, str(i) + 'c', \"\")\n",
    "  dataframe[\"11 school or nah?\"] = \"\"\n",
    "  dataframe['10a'] = \"\"\n",
    "  dataframe['10b'] = \"\"\n",
    "  dataframe['10c'] = \"\"\n"
   ]
  },
  {
   "cell_type": "code",
   "execution_count": null,
   "metadata": {
    "id": "N9fFAIwo6UO6"
   },
   "outputs": [],
   "source": [
    "\n",
    "from numpy import NaN\n",
    "import math\n",
    "def schoollevel(df, numschools):\n",
    "  addSchoolLvlCol2(df, numschools)\n",
    "  numRows = len(df.index)\n",
    "  Elem = [0,1,2,3,4,5]\n",
    "  Mid = [6,7,8]\n",
    "  High = [9,10,11,12]\n",
    "\n",
    "  for f in range(0,numRows):\n",
    "    df.iloc[f,(10)] = 0\n",
    "    df.iloc[f,(11)] = 0\n",
    "    df.iloc[f,(12)] = 0\n",
    "    if math.isnan(float(df.iloc[f,((1))])) or math.isnan(float(df.iloc[f,(2)])):\n",
    "        df.iloc[f,(10)] = None\n",
    "        df.iloc[f,(11)] = None\n",
    "        df.iloc[f,(12)] = None\n",
    "    else:\n",
    "      YearsSpent1 = range(int(df.iloc[f,1]),int(df.iloc[f,2])+ 1)\n",
    "      for j in YearsSpent1:\n",
    "        if j in Elem :\n",
    "          df.iloc[f,(10)] = 1\n",
    "        if j in Mid:\n",
    "          df.iloc[f,(11)] = 1\n",
    "        if j in High:\n",
    "          df.iloc[f,(12)] = 1\n",
    "    for i in range(1,10):\n",
    "      df.iloc[f,((13*i)+10)] = 0\n",
    "      df.iloc[f,((13*i)+11)] = 0\n",
    "      df.iloc[f,((13*i)+12)] = 0\n",
    "      if math.isnan(float(df.iloc[f,((13*i))])) or math.isnan(float(df.iloc[f,((13*i)+1)])):\n",
    "        df.iloc[f,((13*i)+10)] = None\n",
    "        df.iloc[f,((13*i)+11)] = None\n",
    "        df.iloc[f,((13*i)+12)] = None\n",
    "        continue\n",
    "      YearsSpent = range(int(df.iloc[f,((13*i))]),int(df.iloc[f,((13*i)+1)] + 1))\n",
    "      for j in YearsSpent:\n",
    "        if j in Elem :\n",
    "          df.iloc[f,((13*i)+10)] = 1\n",
    "        if j in Mid:\n",
    "          df.iloc[f,((13*i)+11)] = 1\n",
    "        if j in High:\n",
    "          df.iloc[f,((13*i)+12)] = 1\n",
    "\n",
    "MBES = pd.read_csv(pathe + 'MBES/MBES_lhs_education_history_20230412.csv')\n",
    "schoollevel(MBES, 10)"
   ]
  },
  {
   "cell_type": "markdown",
   "metadata": {
    "id": "HP5ZiTJTm9ES"
   },
   "source": [
    "Non Majority-Minority Aggregate"
   ]
  },
  {
   "cell_type": "code",
   "execution_count": null,
   "metadata": {
    "id": "25zv7gP44mH6"
   },
   "outputs": [],
   "source": [
    "# Issues: People who moved schools in same year- how to handle?\n",
    "# People who had inconsistent history - i.e. 1st school: grades 1 - 6 ; 2nd school: grades 1- 7\n",
    "# some people misunderstood the question;\n",
    "\n",
    "def nonminoritymajority(df):\n",
    "  df['What degree was your education at a non-majority minority school?'] = None\n",
    "  df['How many years did you spend in a non-majority minority school?'] = None\n",
    "  df['Last reported grade'] = None\n",
    "\n",
    "  numRows = len(df.index)\n",
    "  for f in range(0,numRows):\n",
    "    NMMST = 0\n",
    "    NMMS = 0\n",
    "    grades = []\n",
    "    grades.append(df.iloc[f,(2)])\n",
    "    for i in range(1,10):\n",
    "        grades.append(df.iloc[f,13*i + 1])\n",
    "    # Last year of School\n",
    "\n",
    "    LYOS = max(grades)\n",
    "    if LYOS > 12:\n",
    "      LYOS = 12\n",
    "\n",
    "\n",
    "    if df.iloc[f,(2)] == df.iloc[f,(1)]:\n",
    "      YSAS1 = 1\n",
    "    else:\n",
    "      YSAS1 = df.iloc[f,(2)] - df.iloc[f,(1)] + 1\n",
    "    if df.iloc[f,(9)] == \"White\":\n",
    "      NMMS = 1\n",
    "    NMMST = NMMS*YSAS1\n",
    "    for i in range(1,10):\n",
    "      NMMS = 0\n",
    "      YSAS = 0\n",
    "      if math.isnan(float(df.iloc[f,((13*i))])) or math.isnan(float(df.iloc[f,((13*i)+1)])):\n",
    "        continue\n",
    "      if df.iloc[f,((13*i))] > 12 or df.iloc[f,((13*i)+1)] > 12:\n",
    "        continue\n",
    "      if df.iloc[f,(13*i) + 1] == df.iloc[f,13*i]:\n",
    "        YSAS = 1\n",
    "      else:\n",
    "        YSAS = df.iloc[f,(13*i) + 1] - df.iloc[f,13*i] + 1\n",
    "      if i == 1 and df.iloc[f,13] == df.iloc[f,2]:  # Accounting for 1st school midyear switches\n",
    "        YSAS = YSAS-1\n",
    "      if df.iloc[f,13*i] == df.iloc[f,13*(i-1)]:  # Accounting for midyear switches,\n",
    "        YSAS = YSAS-1\n",
    "      if df.iloc[f,(13*i) + 8] == \"White\":\n",
    "        NMMS = 1\n",
    "      NMMST = NMMST + NMMS*YSAS\n",
    "\n",
    "\n",
    "\n",
    "\n",
    "    df.iloc[f,131] = NMMST\n",
    "    df.iloc[f,132] = LYOS\n",
    "    if df.iloc[f,(1)] == 0:\n",
    "      NMMSCA = NMMST / (LYOS + 1)\n",
    "    else:\n",
    "      NMMSCA = NMMST / LYOS\n",
    "    df.iloc[f,130] = NMMSCA\n",
    "\n",
    "\n",
    "nonminoritymajority(MBES)\n"
   ]
  },
  {
   "cell_type": "code",
   "execution_count": null,
   "metadata": {
    "colab": {
     "base_uri": "https://localhost:8080/"
    },
    "id": "fLIz2dhO4FyX",
    "outputId": "03f94e33-229f-4fb4-8d25-896d68936c20"
   },
   "outputs": [],
   "source": [
    "def getOverlappingSchoolYearsRows(df):\n",
    "  # Takes the whole dataframe, assuming school level processing done\n",
    "  # identifies participants whose start and end grades overlap,\n",
    "  # and returns dataframe of only the particpants who overlap\n",
    "  # We then edited the participants individually\n",
    "  numRows = len(df.index)\n",
    "  IDs = []\n",
    "  for f in range(0,numRows):\n",
    "    if math.isnan(float(df.iloc[f,((1))])) or math.isnan(float(df.iloc[f,(2)])):\n",
    "      continue\n",
    "    grades = []\n",
    "    grades.extend(range(int(df.iloc[f,1]),int((df.iloc[f,2]+ 1) ) ))\n",
    "    for i in range(1,10):\n",
    "      if df.iloc[f,((13*i))] > 12 or df.iloc[f,((13*i)+1)] > 12:\n",
    "        continue\n",
    "      if math.isnan(float(df.iloc[f,13*i])) or math.isnan( float(df.iloc[f,13*i + 1] ) ):\n",
    "       continue\n",
    "      if df.iloc[f,(13*i) + 1] == df.iloc[f,13*i]: #if end grade = start grade\n",
    "        if i ==1 and df.iloc[f,13*i] == df.iloc[f,2]: # Accouting for unique number of columns for first school\n",
    "              continue # if start grade = end grade & start grade = previous end grade, dont add values to grades\n",
    "        if df.iloc[f,13*i] == df.iloc[f,13*(i-1) + 1]:  # if start grade = previous school end grade\n",
    "          continue # if start grade = end grade & start grade = previous end grade, dont add values to grades\n",
    "        grades.append(df.iloc[f,13*i]) # adding only start grade\n",
    "        continue\n",
    "      if i ==1 and df.iloc[f,13*i] == df.iloc[f,2]: # Accouting for unique number of columns for first school\n",
    "          # if start grade = previous end grade, begin adding one year past start grade\n",
    "          grades.extend(range(int(df.iloc[f,13*i] + 1),int((df.iloc[f,13*i + 1]+ 1) ) ))\n",
    "          continue\n",
    "      if df.iloc[f,13*i] == df.iloc[f,13*(i-1)+ 1]: # if start grade = previous school end grade\n",
    "        # begin adding one year past start grade\n",
    "        grades.extend(range(int(df.iloc[f,13*i] + 1),int((df.iloc[f,13*i + 1]+ 1) ) ))\n",
    "        continue\n",
    "      grades.extend(range(int(df.iloc[f,13*i]),int((df.iloc[f,13*i + 1]+ 1) ) ))\n",
    "\n",
    "    unique = set(grades)\n",
    "\n",
    "    if not len(unique) == len(grades):\n",
    "      IDs.append(df.iloc[f,0])\n",
    "  subset = MBES[MBES['Study ID'].isin(IDs)]\n",
    "  return subset\n",
    "\n",
    "incorrect = getOverlappingSchoolYearsRows(MBES)\n",
    "\n",
    "len(incorrect['Study ID'])"
   ]
  },
  {
   "cell_type": "code",
   "execution_count": null,
   "metadata": {
    "id": "vk9W0I6QyCU7"
   },
   "outputs": [],
   "source": [
    "# inc = incorrect['Study ID']\n",
    "# inc\n",
    "# print( inc.to_string(index=False))\n",
    "# IDs with overlapping school histories"
   ]
  },
  {
   "cell_type": "code",
   "execution_count": null,
   "metadata": {
    "id": "akYAsKFRrMtL"
   },
   "outputs": [],
   "source": [
    "# MBES[MBES['What degree was your education at a non-majority minority school?'] > 1]['Study ID']\n"
   ]
  },
  {
   "cell_type": "code",
   "execution_count": null,
   "metadata": {
    "id": "cCslHi72wqVb"
   },
   "outputs": [],
   "source": [
    "\n",
    "MBES.to_csv(pathe + 'MBES/Education_level_and_NMM_appended_MBES_lhs_education_history_20230428.csv', index = False)\n"
   ]
  },
  {
   "cell_type": "code",
   "execution_count": null,
   "metadata": {
    "id": "jl9H4kgvVSJY"
   },
   "outputs": [],
   "source": [
    "# The following code was used with a file with manually entered geolocation confidence values based on if they had an exact address (5)\n",
    "# if they had just the street + zip (4) , just the zip (3), just the city (2), just the state (1), or foreign address (0)\n",
    "analysis = pd.read_csv(pathe + 'MBES/Life History Survey (MBES) - ElemConfidenceAnalysis.csv')\n",
    "analysis['Geolocation Confidence Level (1 - 5)'].value_counts()"
   ]
  },
  {
   "cell_type": "code",
   "execution_count": null,
   "metadata": {},
   "outputs": [],
   "source": [
    "\n",
    "# Analyzing start, end grades and start, end ages to find gaps \n",
    "print('The Number of empty start ages: ' +\n",
    "str(len(analysis[analysis['Start Age'].isna() == True])))\n",
    "print('The Number of empty end ages: ' +\n",
    "str(len(analysis[analysis['End Age'].isna() == True])))\n",
    "print('The Number of empty start ages: ' +\n",
    "str(len(analysis[analysis['Start Grade'].isna() == True])))\n",
    "print('The Number of empty end grades: ' +\n",
    "str(len(analysis[analysis['End Grade'].isna() == True])))"
   ]
  },
  {
   "cell_type": "code",
   "execution_count": null,
   "metadata": {},
   "outputs": [],
   "source": [
    "analysis[analysis['End Age'].isna() == True]['Study ID']"
   ]
  },
  {
   "cell_type": "code",
   "execution_count": null,
   "metadata": {},
   "outputs": [],
   "source": [
    "analysis[analysis['Start Age'].isna() == True]['Study ID']"
   ]
  },
  {
   "cell_type": "code",
   "execution_count": null,
   "metadata": {},
   "outputs": [],
   "source": [
    "analysis[analysis['Start Grade'].isna() == True]['Study ID']"
   ]
  },
  {
   "cell_type": "code",
   "execution_count": null,
   "metadata": {},
   "outputs": [],
   "source": [
    "analysis[analysis['End Grade'].isna() == True]['Study ID']"
   ]
  },
  {
   "cell_type": "code",
   "execution_count": null,
   "metadata": {},
   "outputs": [],
   "source": [
    "analysis[(analysis['Study ID'] == 22998) & (analysis['School ID']== 3)]"
   ]
  },
  {
   "cell_type": "code",
   "execution_count": null,
   "metadata": {},
   "outputs": [],
   "source": []
  }
 ],
 "metadata": {
  "colab": {
   "provenance": []
  },
  "kernelspec": {
   "display_name": "Python 3 (ipykernel)",
   "language": "python",
   "name": "python3"
  },
  "language_info": {
   "codemirror_mode": {
    "name": "ipython",
    "version": 3
   },
   "file_extension": ".py",
   "mimetype": "text/x-python",
   "name": "python",
   "nbconvert_exporter": "python",
   "pygments_lexer": "ipython3",
   "version": "3.10.9"
  }
 },
 "nbformat": 4,
 "nbformat_minor": 1
}
