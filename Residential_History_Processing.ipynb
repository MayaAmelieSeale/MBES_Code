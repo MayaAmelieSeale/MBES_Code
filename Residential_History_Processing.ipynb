{
 "cells": [
  {
   "cell_type": "code",
   "execution_count": null,
   "metadata": {
    "id": "cLf-ZYuwHTBL"
   },
   "outputs": [],
   "source": [
    "import pandas as pd\n",
    "pd.set_option('display.max_rows', 500)\n",
    "pd.set_option('display.max_columns', 500)\n",
    "# Data Entry\n",
    "# School Level Processing\n",
    "# Non Majority-Minority Aggregate\n",
    "# Methods for identifying errors in participant responses\n",
    "# pathe = path to directory where MBES data folder is stored \n",
    "# pathe = "
   ]
  },
  {
   "cell_type": "code",
   "execution_count": null,
   "metadata": {
    "id": "lgLJHO8uHfIj"
   },
   "outputs": [],
   "source": [
    "MBES = pd.read_csv( pathe + 'MBES/MBES-ResidentialInformati_DATA_2023-06-26_0852.csv')\n",
    "MBES = MBES.rename({'study_id': 'Study ID'}, axis='columns')\n"
   ]
  },
  {
   "cell_type": "code",
   "execution_count": null,
   "metadata": {
    "colab": {
     "base_uri": "https://localhost:8080/",
     "height": 444
    },
    "id": "aotJehangefV",
    "outputId": "b97dc376-607c-4a7d-8f4b-7b8d63defaeb"
   },
   "outputs": [],
   "source": [
    "MBES.head()"
   ]
  },
  {
   "cell_type": "markdown",
   "metadata": {
    "id": "t4QZsW1rhux3"
   },
   "source": []
  },
  {
   "cell_type": "code",
   "execution_count": null,
   "metadata": {
    "id": "jj9OBuYwkpkQ"
   },
   "outputs": [],
   "source": [
    "def MakeResInfoDataEntry(df):\n",
    "  # Transformed LHS dataset into one that can be used for school info data entry\n",
    "  # Rows are now for each residence, rather than for each study ID\n",
    "  # The resulting dataframe cannot be used with any other methods\n",
    "\n",
    "  Yearmoved = pd.melt(df, id_vars='Study ID', var_name = 'Year moved', value_name = 'Year Moved',  value_vars=['life_5_a1','life_5_b1','life_5_c1','life_5_d1','life_5_e1','life_5_f1','life_5_g1','life_5_h1','life_5_i1','life_5_j1','life_5_k1','life_5_l1','life_5_m1','life_5_n1', 'life_5_o1','life_5_p1','life_5_q1','life_5_r1'])\n",
    "  StreetAdd = pd.melt(df, id_vars='Study ID', var_name = 'Street Address ID', value_name = 'Street Address', value_vars=['life_5_a2','life_5_b2','life_5_c2','life_5_d2','life_5_e2','life_5_f2','life_5_g2','life_5_h2','life_5_i2','life_5_j2','life_5_k2','life_5_l2','lie_5_m2','life_5_n2', 'life_5_o2','life_5_p2','life_5_q2','life_5_r2'])\n",
    "  City =  pd.melt(df, id_vars='Study ID', var_name = 'City ID', value_name = 'City',  value_vars=['life_5_a3','life_5_b3','life_5_c3','life_5_d3','life_5_e3','life_5_f3','life_5_g3','life_5_h3','life_5_i3','life_5_j3','life_5_k3','life_5_l3','life_5_m3','life_5_n3', 'life_5_o3','life_5_p3','life_5_q3','life_5_r3'])\n",
    "  State = pd.melt(df, id_vars='Study ID', var_name = 'State ID', value_name = 'State',  value_vars=['life_5_a4','life_5_b4','life_5_c4','life_5_d4','life_5_e4','life_5_f4','life_5_g4','life_5_h4','life_5_i4','life_5_j4','life_5_k4','life_5_l4','life_5_m4','life_5_n4', 'life_5_o4','life_5_p4','life_5_q4','life_5_r4'])\n",
    "  Zip = pd.melt(df, id_vars='Study ID', var_name = 'Zip Code ID', value_name = 'Zip Code', value_vars=['life_5_a5','life_5_b5','life_5_c5','life_5_d5','life_5_e5','life_5_f5','life_5_g5','life_5_h5','life_5_i5','life_5_j5','life_5_k5','life_5_l5','life_5_m5','life_5_n5', 'life_5_o5','life_5_p5','life_5_q5','life_5_r5'])\n",
    "  m = pd.concat([Yearmoved,\n",
    "               StreetAdd.drop(columns = ['Study ID','Street Address ID']),\n",
    "               City.drop(columns = ['Study ID','City ID']),\n",
    "               State.drop(columns = ['Study ID','State ID']),\n",
    "               Zip.drop(columns = ['Study ID','Zip Code ID'])]\n",
    "               , axis=\"columns\")\n",
    "  m = m.sort_values(by=['Study ID','Year moved'])\n",
    "  return m\n",
    "mbesRes = MakeRedInfoDataEntry(MBES)\n",
    "mbesRes.dropna(how = 'all', subset = [ 'Street Address','City','State','Zip Code', 'Year Moved'], inplace = True)\n"
   ]
  },
  {
   "cell_type": "code",
   "execution_count": null,
   "metadata": {
    "colab": {
     "base_uri": "https://localhost:8080/",
     "height": 1000
    },
    "id": "EJi_1l1-HH4w",
    "outputId": "aa1c1437-c493-4fde-b9f3-2d04645d3ec1"
   },
   "outputs": [],
   "source": [
    "mapcol = {'life_5_a1': 1, 'life_5_b1': 2, 'life_5_c1':3,'life_5_d1': 4, 'life_5_e1':5,'life_5_f1': 6, 'life_5_g1': 7, 'life_5_h1': 8,'life_5_i1':9, 'life_5_j1': 10, 'life_5_k1': 11, 'life_5_l1': 12, 'life_5_m1' : 13, 'life_5_n1' : 14, 'life_5_o1': 15, 'life_5_p1': 16,'life_5_q1' : 17,'life_5_r1': 18 }\n",
    "mbesRes = mbesRes.replace({\"Year moved\": mapcol})\n",
    "mbesRes = mbesRes.rename({\"Year moved\": 'Residence ID'}, axis='columns')\n",
    "#mbesRes = mbesRes['Year moved'].map(mapcol)\n",
    "mbesRes.head(500)"
   ]
  },
  {
   "cell_type": "code",
   "execution_count": null,
   "metadata": {
    "id": "cCslHi72wqVb"
   },
   "outputs": [],
   "source": [
    "\n",
    "mbesRes.to_csv(pathe + 'MBES/MBES_List_Of_All_Residences.csv', index = False)\n"
   ]
  },
  {
   "cell_type": "code",
   "execution_count": null,
   "metadata": {
    "id": "jl9H4kgvVSJY"
   },
   "outputs": [],
   "source": [
    "\n"
   ]
  },
  {
   "cell_type": "code",
   "execution_count": null,
   "metadata": {},
   "outputs": [],
   "source": []
  }
 ],
 "metadata": {
  "colab": {
   "provenance": []
  },
  "kernelspec": {
   "display_name": "Python 3 (ipykernel)",
   "language": "python",
   "name": "python3"
  },
  "language_info": {
   "codemirror_mode": {
    "name": "ipython",
    "version": 3
   },
   "file_extension": ".py",
   "mimetype": "text/x-python",
   "name": "python",
   "nbconvert_exporter": "python",
   "pygments_lexer": "ipython3",
   "version": "3.10.9"
  }
 },
 "nbformat": 4,
 "nbformat_minor": 1
}
